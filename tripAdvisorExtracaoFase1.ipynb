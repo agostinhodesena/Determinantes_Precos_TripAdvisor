{
 "cells": [
  {
   "cell_type": "markdown",
   "id": "f73a006a",
   "metadata": {},
   "source": [
    "# Determinantes dos preços dos restaurantes de SP disponíveis no TripAdvisor<br>Fase 1: Extração"
   ]
  },
  {
   "cell_type": "markdown",
   "id": "2d90b272",
   "metadata": {},
   "source": [
    "## 0. Pré-Scrapping\n",
    "***\n",
    "### Importação dos pacotes e definição de funções:"
   ]
  },
  {
   "cell_type": "code",
   "execution_count": 1,
   "id": "89858102",
   "metadata": {},
   "outputs": [],
   "source": [
    "from selenium import webdriver\n",
    "from selenium.webdriver import Firefox\n",
    "from selenium.webdriver.firefox.options import Options\n",
    "from selenium.webdriver.common.by import By\n",
    "from selenium.webdriver.support.wait import WebDriverWait\n",
    "from selenium.webdriver.support import expected_conditions as EC\n",
    "from selenium.common.exceptions import StaleElementReferenceException, WebDriverException, ElementClickInterceptedException, TimeoutException\n",
    "\n",
    "import time\n",
    "from time import sleep\n",
    "\n",
    "from bs4 import BeautifulSoup\n",
    "import pandas as pd\n",
    "import re"
   ]
  },
  {
   "cell_type": "code",
   "execution_count": 2,
   "id": "186e288f",
   "metadata": {},
   "outputs": [],
   "source": [
    "# determinando parâmetro options para a função que define o webdriver:\n",
    "options = Options()\n",
    "# para o browser não abrir durante o processo:\n",
    "# options.add_argument(\"--headless\")"
   ]
  },
  {
   "cell_type": "code",
   "execution_count": 3,
   "id": "df8ed1f6",
   "metadata": {},
   "outputs": [],
   "source": [
    "# criar e atualizar variáveis html e pagina que transformam página atual do webdriver em um arquivo soup:\n",
    "def atualiza_transforma_pagina(webdriver):\n",
    "    global html, pagina # transforma variáveis html e pagina em globais, ou seja, não ficam restritas a função.\n",
    "    html = browser.page_source\n",
    "    pagina = BeautifulSoup(html, 'html.parser')\n",
    "    \n",
    "# clicar no botão que aceita os cookies e desobstruir página para realização da raspagem:     \n",
    "def aceita_cookies(webdriver, id_):\n",
    "    time.sleep(7)\n",
    "    botao_aceita_cookies = webdriver.find_element(By.ID, str(id_))\n",
    "    botao_aceita_cookies.click()\n",
    "\n",
    "# clicar no botão de próxima página\n",
    "def proxima_pagina(webdriver, css_locator):\n",
    "    \n",
    "    time.sleep(3)\n",
    "    wait = WebDriverWait(webdriver, 10, ignored_exceptions=[StaleElementReferenceException, WebDriverException])\n",
    "    global fim_da_coleta\n",
    "    fim_da_coleta = 0\n",
    "        \n",
    "    try:\n",
    "        proxima_pagina = wait.until(EC.element_to_be_clickable((By.CSS_SELECTOR, str(css_locator))))\n",
    "        proxima_pagina.click()\n",
    "        time.sleep(3)\n",
    "        \n",
    "    except ElementClickInterceptedException:\n",
    "        fim_da_coleta = 1\n",
    "        print('Coleta finalizada!')\n",
    "        \n",
    "    except TimeoutException:\n",
    "        fim_da_coleta = 1\n",
    "        print('Erro \"TimeoutException\": coleta pode ter sido finalizada. Verificar!')"
   ]
  },
  {
   "cell_type": "markdown",
   "id": "6954c3e2",
   "metadata": {},
   "source": [
    "## 1. Scrapping\n",
    "***"
   ]
  },
  {
   "cell_type": "code",
   "execution_count": 18,
   "id": "3c1680c2",
   "metadata": {
    "collapsed": true
   },
   "outputs": [
    {
     "name": "stderr",
     "output_type": "stream",
     "text": [
      "C:\\Users\\guilh\\AppData\\Local\\Temp\\ipykernel_9200\\709260450.py:4: DeprecationWarning: executable_path has been deprecated, please pass in a Service object\n",
      "  browser = webdriver.Firefox(options=options, executable_path=\"C:\\Program Files\\Mozilla Firefox\\geckodriver.exe\")\n"
     ]
    },
    {
     "name": "stdout",
     "output_type": "stream",
     "text": [
      "Erro TimeoutException: coleta pode ter sido finalizada. Verificar!\n",
      "Coleta finalizada!\n"
     ]
    }
   ],
   "source": [
    "# abrindo uma lista em branco para incluir dicionários com nomes dos restaurantes e url das páginas:\n",
    "cards = []\n",
    "\n",
    "browser = webdriver.Firefox(options=options, executable_path=\"C:\\Program Files\\Mozilla Firefox\\geckodriver.exe\")\n",
    "url = 'https://www.tripadvisor.com.br/Restaurants-g303631-Sao_Paulo_State_of_Sao_Paulo.html'\n",
    "browser.get(url)\n",
    "\n",
    "atualiza_transforma_pagina(browser)\n",
    "aceita_cookies(browser, 'onetrust-accept-btn-handler')\n",
    "\n",
    "while True:\n",
    "    atualiza_transforma_pagina(browser)\n",
    "\n",
    "    restaurantes = pagina.find_all('div', {'data-test': re.compile(r'[0-9]+_[a-zA-Z]{4}_[a-zA-Z]{4}')})\n",
    "\n",
    "    for restaurante in restaurantes: \n",
    "        card = {}\n",
    "\n",
    "        if restaurante.find('a', {'class': 'Lwqic Cj b'}) is not None:\n",
    "            card['nome'] = restaurante.find('a', {'class': 'Lwqic Cj b'}).text\n",
    "        else:\n",
    "            card['nome'] = 'None'\n",
    "        if restaurante.find('a', {'class': 'Lwqic Cj b'}).get('href') is not None:\n",
    "            card['link'] = 'https://www.tripadvisor.com.br' + restaurante.find('a', {'class': 'Lwqic Cj b'}).get('href')\n",
    "        else:\n",
    "            card['link'] = 'None'\n",
    "\n",
    "        cards.append(card)\n",
    "\n",
    "    proxima_pagina(browser, 'a.nav:nth-child(2)')\n",
    "\n",
    "    if fim_da_coleta == 1:\n",
    "        browser.quit()\n",
    "        print('Coleta finalizada!')\n",
    "        break\n",
    "    else:\n",
    "        continue"
   ]
  },
  {
   "cell_type": "code",
   "execution_count": 9,
   "id": "ebdb1784",
   "metadata": {},
   "outputs": [],
   "source": [
    "# Criando um DataFrame com os resultados e salvando em um arquivo csv:\n",
    "df_restaurantes_fase1 = pd.DataFrame(cards)\n",
    "df_restaurantes_fase1.to_csv('df_restaurantes_fase1.csv')"
   ]
  },
  {
   "cell_type": "code",
   "execution_count": null,
   "id": "7f25648e",
   "metadata": {},
   "outputs": [],
   "source": []
  }
 ],
 "metadata": {
  "kernelspec": {
   "display_name": "Python 3 (ipykernel)",
   "language": "python",
   "name": "python3"
  },
  "language_info": {
   "codemirror_mode": {
    "name": "ipython",
    "version": 3
   },
   "file_extension": ".py",
   "mimetype": "text/x-python",
   "name": "python",
   "nbconvert_exporter": "python",
   "pygments_lexer": "ipython3",
   "version": "3.9.12"
  }
 },
 "nbformat": 4,
 "nbformat_minor": 5
}
